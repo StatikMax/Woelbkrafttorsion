{
 "cells": [
  {
   "cell_type": "markdown",
   "metadata": {},
   "source": [
    "Notebook zur Berechnung der Wölbschubspannungen in einem Rechteckquerschnitt\n",
    "=======\n",
    "Das in dieser Datei gerechnete Beispiel ist ein beidseitig eingespannter Träger, der durch ein mittiges Torsionsmoment belastet wird."
   ]
  },
  {
   "cell_type": "markdown",
   "metadata": {},
   "source": [
    "<div style=\"background-color:lightblue;text-align:center\"> \n",
    "Um den Code in einer Zelle auszuführen jeweils [Shift+Enter] drücken.\n",
    "</div>"
   ]
  },
  {
   "cell_type": "markdown",
   "metadata": {},
   "source": [
    "\n",
    "Benennung der Variablen\n",
    "---------\n",
    "Die Variablen sind entsprechend der gängigen Literatur benannt. Ein Unterstrich am Ende der variablen deutet an, dass es sich um eine numerische Variable handelt (mit Ausnahmen). Alle anderen Variablen werden als Sympy Symbole definiert, die Formeln sind demnach alle symbolische Formeln.'"
   ]
  },
  {
   "cell_type": "code",
   "execution_count": 83,
   "metadata": {},
   "outputs": [],
   "source": [
    "import sympy as sp\n",
    "from sympy.abc import phi\n",
    "from IPython.display import display, Latex, Math\n",
    "import math\n",
    "import matplotlib.pyplot as plt\n",
    "import numpy as np\n",
    "\n",
    "\n",
    "# Querschnittswerte\n",
    "h_ = 184\n",
    "b_ = 184\n",
    "t_s_ = 17\n",
    "t_g_ = 16\n",
    "E_ = 210000\n",
    "G_ = 81000\n",
    "# l_ = 2.59286490944567\n",
    "lamb_l_ = 6      #Wert für lambda*l, wird später genutzt um die Stablänge l_ zu bestimmen\n",
    "M_T_ = 1\n",
    "\n",
    "#Sympy\n",
    "y = sp.Symbol('y')\n",
    "z = sp.Symbol('z')\n",
    "h = sp.Symbol('h')\n",
    "t_s = sp.Symbol('t_s')\n",
    "b = sp.Symbol('b')\n",
    "t_g = sp.Symbol('t_g')\n",
    "x = sp.Symbol('x')\n",
    "M_T = sp.Symbol('M_T')\n",
    "m_T = sp.Symbol('m_T')\n",
    "E = sp.Symbol('E')\n",
    "G = sp.Symbol('G')\n",
    "l = sp.Symbol('l')\n",
    "C1, C2, C3, C4, C5, C6, C7, C8 = sp.symbols(['C1', 'C2', 'C3', 'C4', 'C5', 'C6', 'C7', 'C8'])\n",
    "\n",
    "def get_val(Sympy_expression, **kwargs):\n",
    "    Sympy_expression = Sympy_expression.evalf(subs={h:h_, b:b_, t_s:t_s_, t_g:t_g_, E:E_, G:G_})\n",
    "    for key in kwargs:\n",
    "        Sympy_expression = Sympy_expression.eval(subs={key:kwargs[key]})\n",
    "    # display(Sympy_expression)\n",
    "    return Sympy_expression\n"
   ]
  },
  {
   "cell_type": "markdown",
   "metadata": {},
   "source": [
    "Querschnittswerte\n",
    "----\n",
    "Einheitsverwölbung $\\varphi$ (wölbordinate)."
   ]
  },
  {
   "cell_type": "code",
   "execution_count": 84,
   "metadata": {},
   "outputs": [
    {
     "data": {
      "text/latex": [
       "$\\displaystyle 0.0303030303030303 y z$"
      ],
      "text/plain": [
       "0.0303030303030303*y*z"
      ]
     },
     "execution_count": 84,
     "metadata": {},
     "output_type": "execute_result"
    }
   ],
   "source": [
    "phi = -y*z*(h/t_s - b/t_g)/(h/t_s + b/t_g)\n",
    "get_val(phi)\n",
    "# sp.Eq(sp.abc.phi,phi)"
   ]
  },
  {
   "cell_type": "markdown",
   "metadata": {},
   "source": [
    "Wölbwiderstand $I_{\\omega}$ (Wölbflächenmoment 2. Grades). <br>\n",
    "Im Skript mit $A_{ww}$ bezeichnet"
   ]
  },
  {
   "cell_type": "code",
   "execution_count": 85,
   "metadata": {},
   "outputs": [
    {
     "data": {
      "text/latex": [
       "$\\displaystyle 266.295564929293$"
      ],
      "text/plain": [
       "266.295564929293"
      ]
     },
     "execution_count": 85,
     "metadata": {},
     "output_type": "execute_result"
    }
   ],
   "source": [
    "I_w_vert = sp.integrate(phi**2,(z,-h/2,h/2))*t_s\n",
    "i_w_hori = sp.integrate(phi**2,(y,-b/2,b/2))*t_g\n",
    "\n",
    "I_w = I_w_vert.subs(y,-b/2) + I_w_vert.subs(y,b/2) + i_w_hori.subs(z,-h/2) + i_w_hori.subs(z,h/2)\n",
    "\n",
    "get_val(I_w)*1e-6"
   ]
  },
  {
   "cell_type": "markdown",
   "metadata": {},
   "source": [
    "$I_{\\omega}$ kann auch direkt mit der folgenden Formel bestimmt werden."
   ]
  },
  {
   "cell_type": "code",
   "execution_count": 86,
   "metadata": {},
   "outputs": [
    {
     "data": {
      "text/latex": [
       "$\\displaystyle -1.47823733770032 \\cdot 10^{-8}$"
      ],
      "text/plain": [
       "-1.47823733770032e-8"
      ]
     },
     "execution_count": 86,
     "metadata": {},
     "output_type": "execute_result"
    }
   ],
   "source": [
    "I_test = 1/24 * b**2 * h**2 * ((h/t_s - b/t_g)/(h/t_s + b/t_g))**2 * (t_s*h + t_g*b)\n",
    "# I_test = I_test.evalf(subs={b:b_, h:h_, t_s:t_s_, t_g:t_g_})\n",
    "get_val(I_test-I_w)"
   ]
  },
  {
   "cell_type": "markdown",
   "metadata": {},
   "source": [
    "Torsionsträgheitsmoment $I_T$"
   ]
  },
  {
   "cell_type": "code",
   "execution_count": 87,
   "metadata": {},
   "outputs": [
    {
     "data": {
      "text/latex": [
       "$\\displaystyle 102692429.575758$"
      ],
      "text/plain": [
       "102692429.575758"
      ]
     },
     "execution_count": 87,
     "metadata": {},
     "output_type": "execute_result"
    }
   ],
   "source": [
    "I_T = (2*b**2*h**2)/(h/t_s + b/t_g)\n",
    "# I_T_ = I_T.evalf(subs={b:b_, h:h_, t_s:t_s_, t_g:t_g_})\n",
    "get_val(I_T)"
   ]
  },
  {
   "cell_type": "markdown",
   "metadata": {},
   "source": [
    "Berchnung von $\\lambda$ und $\\varepsilon$, falls letzteres kleiner als 10 ist kann Wölbkrafttorsion theoretisch vernachlässigt werden. Hier wird die Stablänge für ein oben definiertes $\\lambda\\cdot l$ bestimmt."
   ]
  },
  {
   "cell_type": "code",
   "execution_count": 88,
   "metadata": {},
   "outputs": [],
   "source": [
    "lamb = sp.sqrt((G*I_T)/(E*I_w))\n",
    "epsilon = lamb * l\n",
    "get_val(epsilon)\n",
    "l_ = get_val(lamb_l_/epsilon*l)\n",
    "l_ = float(l_)"
   ]
  },
  {
   "cell_type": "markdown",
   "metadata": {},
   "source": [
    "DGL und Lösung\n",
    "------\n",
    "Zunächst wird die Lösung der Verdrehung $\\vartheta$ und die Ableitungen definiert."
   ]
  },
  {
   "cell_type": "code",
   "execution_count": 98,
   "metadata": {},
   "outputs": [
    {
     "data": {
      "text/latex": [
       "$\\displaystyle C_{1} \\sinh{\\left(0.385673775890542 x \\right)} + C_{2} \\cosh{\\left(0.385673775890542 x \\right)} + C_{3} x + C_{4}$"
      ],
      "text/plain": [
       "C1*sinh(0.385673775890542*x) + C2*cosh(0.385673775890542*x) + C3*x + C4"
      ]
     },
     "execution_count": 98,
     "metadata": {},
     "output_type": "execute_result"
    }
   ],
   "source": [
    "#DGL für konstantes M_T\n",
    "# theta = C1*sp.exp(lamb*x) + C2*sp.exp(-lamb*x) + C3 + M_T/(G*I_T)*x\n",
    "# theta_r = C4*sp.exp(lamb*x) + C5*sp.exp(-lamb*x) + C6 + M_T/(G*I_T)*x\n",
    "\n",
    "#DGL für konstantes m_T, wobei m_T 0 ist\n",
    "theta = C1*sp.sinh(lamb*x )+ C2*sp.cosh(lamb*x) + C3*x + C4 #- m_T/(2*G*I_T)*x**2\n",
    "theta_r = C5*sp.sinh(lamb*x )+ C6*sp.cosh(lamb*x) + C7*x + C8 #- m_T/(2*G*I_T)*x**2\n",
    "\n",
    "\n",
    "#Ableitungen\n",
    "d_theta = sp.diff(theta, x)\n",
    "dd_theta = sp.diff(theta, x, 2)\n",
    "ddd_theta = sp.diff(theta, x, 3)\n",
    "dddd_theta = sp.diff(theta, x, 4)\n",
    "d_theta_r = sp.diff(theta_r, x)\n",
    "dd_theta_r = sp.diff(theta_r, x, 2)\n",
    "ddd_theta_r = sp.diff(theta_r, x, 3)\n",
    "dddd_theta_r = sp.diff(theta_r, x, 4)\n",
    "\n",
    "get_val(theta)"
   ]
  },
  {
   "cell_type": "markdown",
   "metadata": {},
   "source": [
    "Im nächsten Schritt werden die Konstanten bestimmt. Als Beispiel dient ein Beidseitig voll eingespannter Balken mit einem Einzelmoment $M_T$ Stabmitte. Die Randbedingungen sind in den Gleichungen bereits mit berücksichtigt. Um das Gleichungssystem lösen zu können werden mit get_val() die meisten Sympy-Variablen durch numerische Werte ersetzt."
   ]
  },
  {
   "cell_type": "code",
   "execution_count": 99,
   "metadata": {},
   "outputs": [],
   "source": [
    "lamb = get_val(lamb)\n",
    "theta_ = get_val(theta)\n",
    "d_theta_ = get_val(d_theta)\n",
    "dd_theta_ = get_val(dd_theta)\n",
    "ddd_theta_ = get_val(ddd_theta)\n",
    "theta_r_ = get_val(theta_r)\n",
    "d_theta_r_ = get_val(d_theta_r)\n",
    "dd_theta_r_ = get_val(dd_theta_r)\n",
    "ddd_theta_r_ = get_val(ddd_theta_r)\n",
    "\n",
    "Gleichungen = [theta_.evalf(subs={x:0}), d_theta_.evalf(subs={x:0}), theta_r_.evalf(subs={x:l_}), d_theta_r_.evalf(subs={x:l_}), theta_.evalf(subs={x:l_/2})-theta_r_.evalf(subs={x:l_/2}), d_theta_.evalf(subs={x:l_/2})-d_theta_r_.evalf(subs={x:l_/2}), dd_theta_.evalf(subs={x:l_/2})-dd_theta_r_.evalf(subs={x:l_/2}), get_val(G*I_T*d_theta_.evalf(subs={x:l_/2})-E*I_w*ddd_theta_.evalf(subs={x:l_/2}))-get_val(G*I_T*d_theta_r_.evalf(subs={x:l_/2})-E*I_w*ddd_theta_r_.evalf(subs={x:l_/2})) - M_T_]\n",
    "\n",
    "C_vals = sp.solve(Gleichungen, [C1, C2, C3, C4, C5, C6, C7, C8], dict=True)\n",
    "\n",
    "theta_ = get_val(theta).evalf(subs={C1:C_vals[0][C1], C2:C_vals[0][C2], C3:C_vals[0][C3], C4:C_vals[0][C4]})\n",
    "theta_r_ = get_val(theta_r).evalf(subs={C5:C_vals[0][C5], C6:C_vals[0][C6], C7:C_vals[0][C7], C8:C_vals[0][C8]})\n",
    "\n",
    "#Zusammenfügen der Funktionen zu einer Abschnittsweise definierten Funktion\n",
    "theta_ = sp.Piecewise((theta_, x < l_/2), (theta_r_, x >= l_/2))\n",
    "d_theta_ = sp.diff(theta_, x)\n",
    "dd_theta_ = sp.diff(theta_, x, 2)\n",
    "ddd_theta_ = sp.diff(theta_, x, 3)\n",
    "dddd_theta_ = sp.diff(theta_, x, 4)\n"
   ]
  },
  {
   "cell_type": "markdown",
   "metadata": {},
   "source": [
    "Schnittgrößen\n",
    "------\n",
    "Momente in Abhängigkeit von m_T und x"
   ]
  },
  {
   "cell_type": "code",
   "execution_count": 91,
   "metadata": {},
   "outputs": [
    {
     "data": {
      "text/latex": [
       "$\\displaystyle M_{Tp(X=0L)} = 3.65300611895604 \\cdot 10^{-16}$"
      ],
      "text/plain": [
       "Eq(M_Tp(X=0L), 3.65300611895604e-16)"
      ]
     },
     "metadata": {},
     "output_type": "display_data"
    },
    {
     "data": {
      "text/latex": [
       "$\\displaystyle M_{Ts(X=0L)} = 0.500000000000253$"
      ],
      "text/plain": [
       "Eq(M_Ts(X=0L), 0.500000000000253)"
      ]
     },
     "metadata": {},
     "output_type": "display_data"
    },
    {
     "data": {
      "text/latex": [
       "$\\displaystyle M_{w(X=0L)} = -1.1734635723616$"
      ],
      "text/plain": [
       "Eq(M_w(X=0L), -1.1734635723616)"
      ]
     },
     "metadata": {},
     "output_type": "display_data"
    },
    {
     "data": {
      "text/latex": [
       "$\\displaystyle M_{ges(X=0L)} = 0.500000000000253$"
      ],
      "text/plain": [
       "Eq(M_ges(X=0L), 0.500000000000253)"
      ]
     },
     "metadata": {},
     "output_type": "display_data"
    },
    {
     "data": {
      "text/latex": [
       "$\\displaystyle m_{ges(X=0L)} = 1.68985307408716 \\cdot 10^{-18}$"
      ],
      "text/plain": [
       "Eq(m_ges(X=0L), 1.68985307408716e-18)"
      ]
     },
     "metadata": {},
     "output_type": "display_data"
    }
   ],
   "source": [
    "M_Ts_ = -get_val(E*I_w)*ddd_theta_\n",
    "M_Tp_ = get_val(G*I_T)*d_theta_\n",
    "M_w_ = -get_val(E*I_w)*dd_theta_\n",
    "M_ges_ = M_Tp_ + M_Ts_\n",
    "\n",
    "m_Tp_ = -get_val(G*I_T)*dd_theta_\n",
    "m_Ts_ = get_val(E*I_w)*dddd_theta_\n",
    "m_ges_ = m_Tp_ + m_Ts_\n",
    "\n",
    "x_ = 0        # 0 <= x <= 1\n",
    "\n",
    "display(sp.Eq(sp.Symbol(f'M_Tp(X={x_}L)'),M_Tp_.evalf(subs={x:x_})))\n",
    "display(sp.Eq(sp.Symbol(f'M_Ts(X={x_}L)'),M_Ts_.evalf(subs={x:x_})))\n",
    "display(sp.Eq(sp.Symbol(f'M_w(X={x_}L)'),M_w_.evalf(subs={x:x_})))\n",
    "display(sp.Eq(sp.Symbol(f'M_ges(X={x_}L)'),M_ges_.evalf(subs={x:x_})))\n",
    "\n",
    "display(sp.Eq(sp.Symbol(f'm_ges(X={x_}L)'),m_ges_.evalf(subs={x:x_})))"
   ]
  },
  {
   "cell_type": "markdown",
   "metadata": {},
   "source": [
    "Um die Wölbschubspannungen bestimmen zu können muss das statische Wölbmoment $S_\\omega$ definiert werden."
   ]
  },
  {
   "cell_type": "code",
   "execution_count": 92,
   "metadata": {},
   "outputs": [],
   "source": [
    "S_w_s_ = get_val(sp.integrate(phi,z)*t_s)\n",
    "S_w_g_ = get_val(sp.integrate(phi,y)*t_g)\n",
    "\n",
    "S_w = sp.Piecewise((S_w_s_, abs(y)>=b_/2), (S_w_g_, True))\n",
    "# S_w = sp.lambdify([y,z], S_w, math)\n",
    "\n",
    "\n",
    "# S_w(h_/2,b_/2)"
   ]
  },
  {
   "cell_type": "markdown",
   "metadata": {},
   "source": [
    "Spannungen:"
   ]
  },
  {
   "cell_type": "code",
   "execution_count": 93,
   "metadata": {},
   "outputs": [
    {
     "data": {
      "text/latex": [
       "$\\displaystyle \\tau_{sv(X=0L)} = 3.87630758466012 \\cdot 10^{-22}$"
      ],
      "text/plain": [
       "Eq(tau_sv(X=0L), 3.87630758466012e-22)"
      ]
     },
     "metadata": {},
     "output_type": "display_data"
    },
    {
     "data": {
      "text/latex": [
       "$\\displaystyle \\tau_{w(X=0L)} = 0.00640211483932271$"
      ],
      "text/plain": [
       "Eq(tau_w(X=0L), 0.00640211483932271)"
      ]
     },
     "metadata": {},
     "output_type": "display_data"
    },
    {
     "data": {
      "text/latex": [
       "$\\displaystyle \\sigma_{w(X=0L)} = 1.13023146532527 \\cdot 10^{-6}$"
      ],
      "text/plain": [
       "Eq(sigma_w(X=0L), 1.13023146532527e-6)"
      ]
     },
     "metadata": {},
     "output_type": "display_data"
    },
    {
     "name": "stdout",
     "output_type": "stream",
     "text": [
      "{y, x, z}\n"
     ]
    }
   ],
   "source": [
    "x_ = 0          # 0 <= x_ <= l_\n",
    "y_ = b_/2\n",
    "z_ = h_/2\n",
    "t_s_ = 17\n",
    "\n",
    "tau_SV_ = get_val((M_Tp_/(2*h_*b_*min(t_s_, t_g_))))\n",
    "display(sp.Eq(sp.Symbol(f'tau_sv(X={x_}L)'),tau_SV_.evalf(subs={y:y_, z:z_, x:0})))\n",
    "\n",
    "tau_w_ = get_val((M_Ts_/I_w*t_s_) * (S_w))\n",
    "display(sp.Eq(sp.Symbol(f'tau_w(X={x_}L)'),tau_w_.evalf(subs={y:y_, z:z_, x:0})))\n",
    "\n",
    "sig_w_ = - M_w_/get_val(I_w) * get_val(phi)\n",
    "display(sp.Eq(sp.Symbol(f'sigma_w(X={x_}L)'),sig_w_.evalf(subs={y:y_, z:z_, x:x_})))\n",
    "print(tau_w_.free_symbols)"
   ]
  },
  {
   "cell_type": "markdown",
   "metadata": {},
   "source": [
    "Plot der Momentenverläufe über sie Stablänge $l$. Vorzeichen und Skalierung wie im Skript. (Fall 4)"
   ]
  },
  {
   "cell_type": "code",
   "execution_count": 94,
   "metadata": {},
   "outputs": [
    {
     "data": {
      "text/plain": [
       "<matplotlib.legend.Legend at 0x20ea8749090>"
      ]
     },
     "execution_count": 94,
     "metadata": {},
     "output_type": "execute_result"
    },
    {
     "data": {
      "image/png": "[encoded data removed]",
      "text/plain": [
       "<Figure size 800x400 with 1 Axes>"
      ]
     },
     "metadata": {},
     "output_type": "display_data"
    }
   ],
   "source": [
    "x_np = np.mgrid[0:l_:501j]\n",
    "\n",
    "M_Ts_lambdified = sp.lambdify(x,M_Ts_, 'numpy')\n",
    "M_Ts_np = M_Ts_lambdified(x_np)\n",
    "\n",
    "M_Tp_lambdified = sp.lambdify(x,M_Tp_, 'numpy')\n",
    "M_Tp_np = M_Tp_lambdified(x_np)\n",
    "\n",
    "M_w_lambdified = sp.lambdify(x,M_w_, 'numpy')\n",
    "M_w_np = M_w_lambdified(x_np)\n",
    "\n",
    "M_ges_lambdified = sp.lambdify(x,M_ges_, 'numpy')\n",
    "M_ges_np = M_ges_lambdified(x_np)\n",
    "\n",
    "fig = plt.figure(figsize=(8,4))\n",
    "ax = fig.add_subplot(1, 1, 1)\n",
    "ax.plot(x_np,M_Tp_np/M_T_, label='$M_{Tp}$')\n",
    "ax.plot(x_np,-M_Ts_np/M_T_, label='$M_{Ts}$')\n",
    "ax.plot(x_np,-M_w_np*lamb/M_T_, label='$M_{\\omega}$')\n",
    "# ax.plot(x_np,M_ges_np, label='$M_{T}$')\n",
    "ax.grid(True,'major')\n",
    "ax.legend()\n"
   ]
  },
  {
   "cell_type": "markdown",
   "metadata": {},
   "source": [
    "Plot der Spannungen über die Stablänge $l$. Der Betrachtete Punkt im Querschnitt kann geändert werden indem die Werte für $y_{betrachtet}$ oder $z_{betrachtet}$ geändert werden."
   ]
  },
  {
   "cell_type": "code",
   "execution_count": 95,
   "metadata": {},
   "outputs": [
    {
     "data": {
      "text/plain": [
       "<matplotlib.legend.Legend at 0x20ea8857b80>"
      ]
     },
     "execution_count": 95,
     "metadata": {},
     "output_type": "execute_result"
    },
    {
     "data": {
      "image/png": "[encoded data removed]",
      "text/plain": [
       "<Figure size 800x400 with 1 Axes>"
      ]
     },
     "metadata": {},
     "output_type": "display_data"
    }
   ],
   "source": [
    "x_np = np.mgrid[0:l_:501j]\n",
    "y_betrachtet = b_/2\n",
    "z_betrachtet = h_/2\n",
    "\n",
    "tau_SV_lambdified = sp.lambdify((x, z),tau_SV_, 'numpy')\n",
    "tau_SV_np = tau_SV_lambdified(x_np, z_betrachtet)\n",
    "\n",
    "# tau_w_np = get_np_vals(tau_w_,x_np,yzm)\n",
    "tau_w_lambdified = sp.lambdify((x, y, z),tau_w_, 'numpy')\n",
    "tau_w_np = tau_w_lambdified(x_np, y_betrachtet, z_betrachtet)\n",
    "\n",
    "# sig_w_np = get_np_vals(sig_w_,x_np,yzm)\n",
    "sig_w_lambdified = sp.lambdify((x, y, z),sig_w_, 'numpy')\n",
    "sig_w_np = sig_w_lambdified(x_np, y_betrachtet, z_betrachtet)\n",
    "\n",
    "fig = plt.figure(figsize=(8,4))\n",
    "ax = fig.add_subplot(1, 1, 1)\n",
    "ax.plot(x_np,tau_SV_np, label='$\\\\tau_{SV}$')\n",
    "ax.plot(x_np,tau_w_np, label='$\\\\tau_{\\omega}$')\n",
    "ax.plot(x_np,sig_w_np, label='$\\sigma_{\\omega}$')\n",
    "ax.grid(True,'major')\n",
    "ax.legend()\n"
   ]
  },
  {
   "cell_type": "markdown",
   "metadata": {},
   "source": [
    "Der Faktor zwischen dem maximalen Werten der sekundären und primären Schubspannung beträgt:"
   ]
  },
  {
   "cell_type": "code",
   "execution_count": 96,
   "metadata": {},
   "outputs": [
    {
     "data": {
      "text/plain": [
       "24129.24739282863"
      ]
     },
     "execution_count": 96,
     "metadata": {},
     "output_type": "execute_result"
    }
   ],
   "source": [
    "np.max(tau_w_np)/np.max(tau_SV_np)"
   ]
  },
  {
   "cell_type": "code",
   "execution_count": 97,
   "metadata": {},
   "outputs": [
    {
     "data": {
      "text/latex": [
       "$\\displaystyle 256.484848484848$"
      ],
      "text/plain": [
       "256.484848484848"
      ]
     },
     "execution_count": 97,
     "metadata": {},
     "output_type": "execute_result"
    }
   ],
   "source": [
    "phi.evalf(subs={y:b_/2, z:h_/2, b:b_, h:h_, t_s:t_s_, t_g:t_g_})"
   ]
  }
 ],
 "metadata": {
  "kernelspec": {
   "display_name": "Python 3.10.8 64-bit",
   "language": "python",
   "name": "python3"
  },
  "language_info": {
   "codemirror_mode": {
    "name": "ipython",
    "version": 3
   },
   "file_extension": ".py",
   "mimetype": "text/x-python",
   "name": "python",
   "nbconvert_exporter": "python",
   "pygments_lexer": "ipython3",
   "version": "3.10.8"
  },
  "orig_nbformat": 4,
  "vscode": {
   "interpreter": {
    "hash": "62ce8a90663cc2efe57e9305c1474b1b51c23f04735b854c3d205d84b235ecea"
   }
  }
 },
 "nbformat": 4,
 "nbformat_minor": 2
}
