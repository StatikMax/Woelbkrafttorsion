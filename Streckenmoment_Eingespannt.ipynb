{
 "cells": [
  {
   "cell_type": "markdown",
   "metadata": {},
   "source": [
    "Notebook zur Berechnung der Wölbschubspannungen in einem Rechteckquerschnitt\n",
    "=======\n",
    "Das in dieser Datei gerechnete Beispiel ist ein beidseitig eingespannter Träger, der durch ein konstantes Streckentorsionsmoment belastet wird."
   ]
  },
  {
   "cell_type": "markdown",
   "metadata": {},
   "source": [
    "<div style=\"background-color:lightblue;text-align:center\"> \n",
    "Um den Code in einer Zelle auszuführen jeweils [Shift+Enter] drücken.\n",
    "</div>"
   ]
  },
  {
   "cell_type": "markdown",
   "metadata": {},
   "source": [
    "\n",
    "Benennung der Variablen\n",
    "---------\n",
    "Die Variablen sind entsprechend der gängigen Literatur benannt. Ein Unterstrich am Ende der variablen deutet an, dass es sich um eine numerische Variable handelt (mit Ausnahmen). Alle anderen Variablen werden als Sympy Symbole definiert, die Formeln sind demnach alle symbolische Formeln.'"
   ]
  },
  {
   "cell_type": "code",
   "execution_count": 94,
   "metadata": {},
   "outputs": [],
   "source": [
    "import sympy as sp\n",
    "from sympy.abc import phi\n",
    "from IPython.display import display, Latex, Math\n",
    "import math\n",
    "import matplotlib.pyplot as plt\n",
    "import numpy as np\n",
    "\n",
    "\n",
    "# Querschnittswerte\n",
    "h_ = 184\n",
    "b_ = 184\n",
    "t_s_ = 17\n",
    "t_g_ = 16\n",
    "E_ = 210000\n",
    "G_ = 81000\n",
    "# l_ = 2.59286490944567\n",
    "lamb_l_ = 6      #Wert für lambda*l, wird später genutzt um die Stablänge l_ zu bestimmen\n",
    "M_T_ = 1\n",
    "\n",
    "#Sympy\n",
    "y = sp.Symbol('y')\n",
    "z = sp.Symbol('z')\n",
    "h = sp.Symbol('h')\n",
    "t_s = sp.Symbol('t_s')\n",
    "b = sp.Symbol('b')\n",
    "t_g = sp.Symbol('t_g')\n",
    "x = sp.Symbol('x')\n",
    "M_T = sp.Symbol('M_T')\n",
    "m_T = sp.Symbol('m_T')\n",
    "E = sp.Symbol('E')\n",
    "G = sp.Symbol('G')\n",
    "l = sp.Symbol('l')\n",
    "C1, C2, C3, C4 = sp.symbols(['C1', 'C2', 'C3', 'C4'])\n",
    "\n",
    "\n",
    "def get_val(Sympy_expression, **kwargs):\n",
    "    Sympy_expression = Sympy_expression.evalf(subs={h:h_, b:b_, t_s:t_s_, t_g:t_g_, E:E_, G:G_})\n",
    "    for key in kwargs:\n",
    "        Sympy_expression = Sympy_expression.eval(subs={key:kwargs[key]})\n",
    "    # display(Sympy_expression)\n",
    "    return Sympy_expression\n"
   ]
  },
  {
   "cell_type": "markdown",
   "metadata": {},
   "source": [
    "Querschnittswerte\n",
    "----\n",
    "Einheitsverwölbung $\\varphi$ (wölbordinate)."
   ]
  },
  {
   "cell_type": "code",
   "execution_count": 95,
   "metadata": {},
   "outputs": [
    {
     "data": {
      "text/latex": [
       "$\\displaystyle 0.0303030303030303 y z$"
      ],
      "text/plain": [
       "0.0303030303030303*y*z"
      ]
     },
     "execution_count": 95,
     "metadata": {},
     "output_type": "execute_result"
    }
   ],
   "source": [
    "phi = -y*z*(h/t_s - b/t_g)/(h/t_s + b/t_g)\n",
    "get_val(phi)\n",
    "# sp.Eq(sp.abc.phi,phi)"
   ]
  },
  {
   "cell_type": "markdown",
   "metadata": {},
   "source": [
    "Wölbwiderstand $I_{\\omega}$ (Wölbflächenmoment 2. Grades). <br>\n",
    "Im Skript mit $A_{ww}$ bezeichnet"
   ]
  },
  {
   "cell_type": "code",
   "execution_count": 96,
   "metadata": {},
   "outputs": [
    {
     "data": {
      "text/latex": [
       "$\\displaystyle 266.295564929293$"
      ],
      "text/plain": [
       "266.295564929293"
      ]
     },
     "execution_count": 96,
     "metadata": {},
     "output_type": "execute_result"
    }
   ],
   "source": [
    "I_w_vert = sp.integrate(phi**2,(z,-h/2,h/2))*t_s\n",
    "i_w_hori = sp.integrate(phi**2,(y,-b/2,b/2))*t_g\n",
    "\n",
    "I_w = I_w_vert.subs(y,-b/2) + I_w_vert.subs(y,b/2) + i_w_hori.subs(z,-h/2) + i_w_hori.subs(z,h/2)\n",
    "\n",
    "get_val(I_w)*1e-6"
   ]
  },
  {
   "cell_type": "markdown",
   "metadata": {},
   "source": [
    "$I_{\\omega}$ kann auch direkt mit der folgenden Formel bestimmt werden."
   ]
  },
  {
   "cell_type": "code",
   "execution_count": 97,
   "metadata": {},
   "outputs": [
    {
     "data": {
      "text/latex": [
       "$\\displaystyle -1.47823733770032 \\cdot 10^{-8}$"
      ],
      "text/plain": [
       "-1.47823733770032e-8"
      ]
     },
     "execution_count": 97,
     "metadata": {},
     "output_type": "execute_result"
    }
   ],
   "source": [
    "I_test = 1/24 * b**2 * h**2 * ((h/t_s - b/t_g)/(h/t_s + b/t_g))**2 * (t_s*h + t_g*b)\n",
    "\n",
    "get_val(I_test-I_w)"
   ]
  },
  {
   "cell_type": "markdown",
   "metadata": {},
   "source": [
    "Torsionsträgheitsmoment $I_T$"
   ]
  },
  {
   "cell_type": "code",
   "execution_count": 5,
   "metadata": {},
   "outputs": [
    {
     "data": {
      "text/latex": [
       "$\\displaystyle 102692429.575758$"
      ],
      "text/plain": [
       "102692429.575758"
      ]
     },
     "execution_count": 5,
     "metadata": {},
     "output_type": "execute_result"
    }
   ],
   "source": [
    "I_T = (2*b**2*h**2)/(h/t_s + b/t_g)\n",
    "\n",
    "get_val(I_T)"
   ]
  },
  {
   "cell_type": "markdown",
   "metadata": {},
   "source": [
    "Berchnung von $\\lambda$ und $\\varepsilon$, falls letzteres kleiner als 10 ist kann Wölbkrafttorsion theoretisch vernachlässigt werden"
   ]
  },
  {
   "cell_type": "code",
   "execution_count": 6,
   "metadata": {},
   "outputs": [
    {
     "data": {
      "text/plain": [
       "float"
      ]
     },
     "execution_count": 6,
     "metadata": {},
     "output_type": "execute_result"
    }
   ],
   "source": [
    "lamb = sp.sqrt((G*I_T)/(E*I_w))\n",
    "epsilon = lamb * l\n",
    "get_val(epsilon)\n",
    "l_ = get_val(lamb_l_/epsilon*l)\n",
    "l_ = float(l_)\n",
    "type(l_)"
   ]
  },
  {
   "cell_type": "markdown",
   "metadata": {},
   "source": [
    "DGL und Lösung\n",
    "------\n",
    "Zunächst wird die Lösung der Verdrehung $\\vartheta$ und die Ableitungen definiert."
   ]
  },
  {
   "cell_type": "code",
   "execution_count": 98,
   "metadata": {},
   "outputs": [
    {
     "data": {
      "text/latex": [
       "$\\displaystyle C_{1} \\sinh{\\left(0.385673775890542 x \\right)} + C_{2} \\cosh{\\left(0.385673775890542 x \\right)} + C_{3} x + C_{4} - 6.01099762823223 \\cdot 10^{-14} m_{T} x^{2}$"
      ],
      "text/plain": [
       "C1*sinh(0.385673775890542*x) + C2*cosh(0.385673775890542*x) + C3*x + C4 - 6.01099762823223e-14*m_T*x**2"
      ]
     },
     "execution_count": 98,
     "metadata": {},
     "output_type": "execute_result"
    }
   ],
   "source": [
    "#DGL für konstantes M_T\n",
    "# theta = C1*sp.exp(lamb*x) + C2*sp.exp(-lamb*x) + C3 + M_T/(G*I_T)*x\n",
    "# theta_r = C4*sp.exp(lamb*x) + C5*sp.exp(-lamb*x) + C6 + M_T/(G*I_T)*x\n",
    "\n",
    "#DGL für konstantes m_T\n",
    "theta = C1*sp.sinh(lamb*x )+ C2*sp.cosh(lamb*x) + C3*x + C4 - m_T/(2*G*I_T)*x**2\n",
    "\n",
    "#Ableitungen\n",
    "d_theta = sp.diff(theta, x)\n",
    "dd_theta = sp.diff(theta, x, 2)\n",
    "ddd_theta = sp.diff(theta, x, 3)\n",
    "dddd_theta = sp.diff(theta, x, 4)\n",
    "\n",
    "get_val(theta)"
   ]
  },
  {
   "cell_type": "markdown",
   "metadata": {},
   "source": [
    "Im nächsten Schritt werden die Konstanten bestimmt. Als Beispiel dient ein Beidseitig voll eingespannter Balken mit einem konstanten Streckenmoment $m_T$ als Belastung. Die Randbedingungen sind in den Gleichungen bereits mit berücksichtigt. Um das Gleichungssystem lösen zu können werden mit get_val() die meisten Variablen durch numerische Werte ersetzt."
   ]
  },
  {
   "cell_type": "code",
   "execution_count": 99,
   "metadata": {},
   "outputs": [],
   "source": [
    "lamb= get_val(lamb)\n",
    "theta_ = get_val(theta)\n",
    "d_theta_ = get_val(d_theta)\n",
    "\n",
    "Gleichungen = [theta_.evalf(subs={x:0}), d_theta_.evalf(subs={x:0}), theta_.evalf(subs={x:l_}), d_theta_.evalf(subs={x:l_})]\n",
    "\n",
    "C_vals = sp.solve(Gleichungen, [C1, C2, C3, C4], dict=True)\n",
    "\n",
    "\n",
    "d_theta_ = get_val(d_theta_).evalf(subs={C1:C_vals[0][C1], C2:C_vals[0][C2], C3:C_vals[0][C3], C4:C_vals[0][C4]})\n",
    "dd_theta_ = get_val(dd_theta).evalf(subs={C1:C_vals[0][C1], C2:C_vals[0][C2], C3:C_vals[0][C3], C4:C_vals[0][C4]})\n",
    "ddd_theta_ = get_val(ddd_theta).evalf(subs={C1:C_vals[0][C1], C2:C_vals[0][C2], C3:C_vals[0][C3], C4:C_vals[0][C4]})\n",
    "dddd_theta_ = get_val(dddd_theta).evalf(subs={C1:C_vals[0][C1], C2:C_vals[0][C2], C3:C_vals[0][C3], C4:C_vals[0][C4]})"
   ]
  },
  {
   "cell_type": "markdown",
   "metadata": {},
   "source": [
    "Schnittgrößen\n",
    "------\n",
    "Momente in Abhängigkeit von m_T und x"
   ]
  },
  {
   "cell_type": "code",
   "execution_count": 101,
   "metadata": {},
   "outputs": [
    {
     "data": {
      "text/latex": [
       "$\\displaystyle M_{Tp(X=0L)} = 4.44089209850063 \\cdot 10^{-15} m_{T}$"
      ],
      "text/plain": [
       "Eq(M_Tp(X=0L), 4.44089209850063e-15*m_T)"
      ]
     },
     "metadata": {},
     "output_type": "display_data"
    },
    {
     "data": {
      "text/latex": [
       "$\\displaystyle M_{Ts(X=0L)} = 7.77859472833675 m_{T}$"
      ],
      "text/plain": [
       "Eq(M_Ts(X=0L), 7.77859472833675*m_T)"
      ]
     },
     "metadata": {},
     "output_type": "display_data"
    },
    {
     "data": {
      "text/latex": [
       "$\\displaystyle M_{w(X=0L)} = - 13.5461324749299 m_{T}$"
      ],
      "text/plain": [
       "Eq(M_w(X=0L), -13.5461324749299*m_T)"
      ]
     },
     "metadata": {},
     "output_type": "display_data"
    },
    {
     "data": {
      "text/latex": [
       "$\\displaystyle M_{ges(X=0L)} = 7.77859472833675 m_{T}$"
      ],
      "text/plain": [
       "Eq(M_ges(X=0L), 7.77859472833675*m_T)"
      ]
     },
     "metadata": {},
     "output_type": "display_data"
    },
    {
     "data": {
      "text/latex": [
       "$\\displaystyle m_{ges(X=0L)} = 1.0 m_{T}$"
      ],
      "text/plain": [
       "Eq(m_ges(X=0L), 1.0*m_T)"
      ]
     },
     "metadata": {},
     "output_type": "display_data"
    }
   ],
   "source": [
    "M_Ts_ = -get_val(E*I_w)*ddd_theta_\n",
    "M_Tp_ = get_val(G*I_T)*d_theta_\n",
    "M_w_ = -get_val(E*I_w)*dd_theta_\n",
    "M_ges_ = M_Tp_ + M_Ts_\n",
    "\n",
    "m_Tp_ = -get_val(G*I_T)*dd_theta_\n",
    "m_Ts_ = get_val(E*I_w)*dddd_theta_\n",
    "m_ges_ = m_Tp_ + m_Ts_\n",
    "\n",
    "x_ = 0        # 0 <= x <= 1\n",
    "\n",
    "display(sp.Eq(sp.Symbol(f'M_Tp(X={x_}L)'),M_Tp_.evalf(subs={x:x_})))\n",
    "display(sp.Eq(sp.Symbol(f'M_Ts(X={x_}L)'),M_Ts_.evalf(subs={x:x_})))\n",
    "display(sp.Eq(sp.Symbol(f'M_w(X={x_}L)'),M_w_.evalf(subs={x:x_})))\n",
    "display(sp.Eq(sp.Symbol(f'M_ges(X={x_}L)'),M_ges_.evalf(subs={x:x_})))\n",
    "\n",
    "display(sp.Eq(sp.Symbol(f'm_ges(X={x_}L)'),m_ges_.evalf(subs={x:x_})))"
   ]
  },
  {
   "cell_type": "markdown",
   "metadata": {},
   "source": [
    "Um die Wölbschubspannungen bestimmen zu können muss das statische Wölbmoment $S_\\omega$ definiert werden."
   ]
  },
  {
   "cell_type": "code",
   "execution_count": 102,
   "metadata": {},
   "outputs": [],
   "source": [
    "S_w_s_ = get_val(sp.integrate(phi,z)*t_s)\n",
    "S_w_g_ = get_val(sp.integrate(phi,y)*t_g)\n",
    "\n",
    "S_w = sp.Piecewise((S_w_s_, abs(y)>=b_/2), (S_w_g_, True))"
   ]
  },
  {
   "cell_type": "markdown",
   "metadata": {},
   "source": [
    "Spannungen:"
   ]
  },
  {
   "cell_type": "code",
   "execution_count": 103,
   "metadata": {},
   "outputs": [
    {
     "data": {
      "text/latex": [
       "$\\displaystyle \\tau_{sv(X=0L)} = 4.2351647362715 \\cdot 10^{-21} m_{T}$"
      ],
      "text/plain": [
       "Eq(tau_sv(X=0L), 4.2351647362715e-21*m_T)"
      ]
     },
     "metadata": {},
     "output_type": "display_data"
    },
    {
     "data": {
      "text/latex": [
       "$\\displaystyle \\tau_{w(X=0L)} = 0.0995989134786738 m_{T}$"
      ],
      "text/plain": [
       "Eq(tau_w(X=0L), 0.0995989134786738*m_T)"
      ]
     },
     "metadata": {},
     "output_type": "display_data"
    },
    {
     "data": {
      "text/latex": [
       "$\\displaystyle \\sigma_{w(X=0L)} = 1.30470732259871 \\cdot 10^{-5} m_{T}$"
      ],
      "text/plain": [
       "Eq(sigma_w(X=0L), 1.30470732259871e-5*m_T)"
      ]
     },
     "metadata": {},
     "output_type": "display_data"
    }
   ],
   "source": [
    "x_ = 0          # 0 <= x_ <= 1\n",
    "y_ = b_/2\n",
    "z_ = h_/2\n",
    "t_s_ = 17\n",
    "\n",
    "tau_SV_ = get_val((M_Tp_/(2*h_*b_*min(t_s_, t_g_))))\n",
    "display(sp.Eq(sp.Symbol(f'tau_sv(X={x_}L)'),tau_SV_.evalf(subs={y:y_, z:z_, x:0})))\n",
    "\n",
    "tau_w_ = get_val((M_Ts_/I_w*t_s_) * (S_w))\n",
    "display(sp.Eq(sp.Symbol(f'tau_w(X={x_}L)'),tau_w_.evalf(subs={y:y_, z:z_, x:0})))\n",
    "\n",
    "sig_w_ = - M_w_/get_val(I_w) * get_val(phi)\n",
    "display(sp.Eq(sp.Symbol(f'sigma_w(X={x_}L)'),sig_w_.evalf(subs={y:y_, z:z_, x:x_})))"
   ]
  },
  {
   "cell_type": "code",
   "execution_count": 104,
   "metadata": {},
   "outputs": [],
   "source": [
    "def get_np_vals(sp_expr, x_np, yzm):\n",
    "    sp_lambdified = sp.lambdify((x, y, z, m_T),sp_expr, 'numpy')\n",
    "    np_arr = sp_lambdified(x_np,**yzm)\n",
    "    return np_arr"
   ]
  },
  {
   "cell_type": "markdown",
   "metadata": {},
   "source": [
    "Plot der Spannungen über die Stablänge $l$. Der Betrachtete Punkt im Querschnitt kann geändert werden indem die Werte für $yzm$ geändert werden."
   ]
  },
  {
   "cell_type": "code",
   "execution_count": 105,
   "metadata": {},
   "outputs": [
    {
     "data": {
      "text/plain": [
       "<matplotlib.legend.Legend at 0x281eee3e0e0>"
      ]
     },
     "execution_count": 105,
     "metadata": {},
     "output_type": "execute_result"
    },
    {
     "data": {
      "image/png": "[encoded data removed]",
      "text/plain": [
       "<Figure size 800x400 with 1 Axes>"
      ]
     },
     "metadata": {},
     "output_type": "display_data"
    }
   ],
   "source": [
    "x_np = np.mgrid[0:l_:501j]\n",
    "yzm = {'y':b_/2, 'z':h_/2, 'm_T':1}\n",
    "tau_SV_np = get_np_vals(tau_SV_,x_np,yzm)\n",
    "tau_w_np = get_np_vals(tau_w_,x_np,yzm)\n",
    "sig_w_np = get_np_vals(sig_w_,x_np,yzm)\n",
    "\n",
    "fig = plt.figure(figsize=(8,4))\n",
    "ax = fig.add_subplot(1, 1, 1)\n",
    "ax.plot(x_np,tau_SV_np, label='$\\\\tau_{SV}$')\n",
    "ax.plot(x_np,tau_w_np, label='$\\\\tau_{\\omega}$')\n",
    "ax.plot(x_np,sig_w_np, label='$\\sigma_{\\omega}$')\n",
    "ax.grid(True,'major')\n",
    "ax.legend()\n"
   ]
  },
  {
   "cell_type": "code",
   "execution_count": 14,
   "metadata": {},
   "outputs": [],
   "source": [
    "def get_np_vals(sp_expr, x_np, m_T_np):\n",
    "    \n",
    "    sp_lambdified = sp.lambdify((x, m_T),sp_expr, 'numpy')\n",
    "    np_arr = sp_lambdified(x_np,**m_T_np)\n",
    "    return np_arr"
   ]
  },
  {
   "cell_type": "markdown",
   "metadata": {},
   "source": [
    "Plot der Momentenverläufe über sie Stablänge $l$. Im Skript wurden die Funktionen teilweise mit gedrehtem Vorzeichen geplottet."
   ]
  },
  {
   "cell_type": "code",
   "execution_count": 15,
   "metadata": {},
   "outputs": [
    {
     "data": {
      "text/plain": [
       "<matplotlib.legend.Legend at 0x262a7b20670>"
      ]
     },
     "execution_count": 15,
     "metadata": {},
     "output_type": "execute_result"
    },
    {
     "data": {
      "image/png": "[encoded data removed]",
      "text/plain": [
       "<Figure size 800x400 with 1 Axes>"
      ]
     },
     "metadata": {},
     "output_type": "display_data"
    }
   ],
   "source": [
    "x_np = np.mgrid[0:l_:501j]\n",
    "m_T_ = {'m_T':1}\n",
    "M_Ts_np = get_np_vals(M_Ts_,x_np,m_T_)\n",
    "M_Tp_np = get_np_vals(M_Tp_,x_np,m_T_)\n",
    "M_w_np = get_np_vals(M_w_,x_np,m_T_)\n",
    "M_ges_np = get_np_vals(M_ges_,x_np,m_T_)\n",
    "\n",
    "fig = plt.figure(figsize=(8,4))\n",
    "ax = fig.add_subplot(1, 1, 1)\n",
    "ax.plot(x_np,M_Tp_np, label='$M_{Tp}$')\n",
    "ax.plot(x_np,M_Ts_np, label='$M_{Ts}$')\n",
    "ax.plot(x_np,M_w_np, label='$M_{\\omega}$')\n",
    "ax.plot(x_np,M_ges_np, label='$M_{T}$')\n",
    "ax.grid(True,'major')\n",
    "ax.legend()\n"
   ]
  },
  {
   "cell_type": "code",
   "execution_count": 16,
   "metadata": {},
   "outputs": [
    {
     "data": {
      "text/latex": [
       "$\\displaystyle 256.484848484848$"
      ],
      "text/plain": [
       "256.484848484848"
      ]
     },
     "execution_count": 16,
     "metadata": {},
     "output_type": "execute_result"
    }
   ],
   "source": [
    "phi.evalf(subs={y:b_/2, z:h_/2, b:b_, h:h_, t_s:t_s_, t_g:t_g_})"
   ]
  }
 ],
 "metadata": {
  "kernelspec": {
   "display_name": "Python 3.10.8 64-bit",
   "language": "python",
   "name": "python3"
  },
  "language_info": {
   "codemirror_mode": {
    "name": "ipython",
    "version": 3
   },
   "file_extension": ".py",
   "mimetype": "text/x-python",
   "name": "python",
   "nbconvert_exporter": "python",
   "pygments_lexer": "ipython3",
   "version": "3.10.8"
  },
  "orig_nbformat": 4,
  "vscode": {
   "interpreter": {
    "hash": "62ce8a90663cc2efe57e9305c1474b1b51c23f04735b854c3d205d84b235ecea"
   }
  }
 },
 "nbformat": 4,
 "nbformat_minor": 2
}
